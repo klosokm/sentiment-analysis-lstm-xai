{
 "cells": [
  {
   "cell_type": "markdown",
   "metadata": {},
   "source": [
    "# Sentiment Analysis using LSTM\n",
    "\n",
    "Created by Sanjay Raghuwanshi, XAI part added by Marta Kłosok  \n",
    "Link to original repo containing LSTM part *https://github.com/sanjay-raghu/sentiment-analysis-using-LSTM-keras*"
   ]
  },
  {
   "cell_type": "markdown",
   "metadata": {
    "_cell_guid": "5b2497b3-60ee-7cd0-0625-f103214c0ed4",
    "_uuid": "b34dc51c4c60fc1cc8200129e74e7a025fd0cc42"
   },
   "source": [
    "**Created by Sanjay Raghuwanshi ** <br/>\n",
    "[Github](https://github.com/sanjay-raghu) <br/>\n",
    "[Linkedin](https://www.linkedin.com/in/sanjayiitg/) <br/>\n",
    "**Sentiment Analysis:** the process of computationally identifying and categorizing opinions expressed in a piece of text, especially in order to determine whether the writer's attitude towards a particular topic, product, etc. is positive, negative, or neutral.\n",
    "\n",
    "**Solving class imbalaned data**:\n",
    "- upsampling \n",
    "- using class weighted loss function"
   ]
  },
  {
   "cell_type": "markdown",
   "metadata": {
    "_cell_guid": "39c44f0e-d62c-7e11-a542-4fcd58e21442",
    "_uuid": "4efef6a6c3143fbb6bca5903fc1a764bbbb861c4"
   },
   "source": [
    "Using LSTM to classify the movie reviews into positive and negative.\n"
   ]
  },
  {
   "cell_type": "markdown",
   "metadata": {},
   "source": [
    "#### *Remarks*\n",
    "\n",
    "To produce the results for DeepExplainer object you need to use Python 3.6 version and 1.14.0 Tensorflow version with latest SHAP package (shap==0.41.0). Rest of the package is listed in requirements.txt. "
   ]
  },
  {
   "cell_type": "code",
   "execution_count": 116,
   "metadata": {
    "_cell_guid": "6c53202d-5c34-4859-e7e9-8ef5c7068287",
    "_uuid": "717bb968c36b9325c7d4cae5724a3672e49ff243"
   },
   "outputs": [],
   "source": [
    "import warnings\n",
    "warnings.filterwarnings(\"ignore\")\n",
    "\n",
    "import numpy as np \n",
    "import pandas as pd \n",
    "\n",
    "from sklearn.feature_extraction.text import CountVectorizer\n",
    "from tensorflow.keras.preprocessing.text import Tokenizer\n",
    "from tensorflow.keras.preprocessing.sequence import pad_sequences\n",
    "from tensorflow.keras.models import Sequential\n",
    "from tensorflow.keras.layers import Dense, Embedding, LSTM, SpatialDropout1D\n",
    "from sklearn.model_selection import train_test_split\n",
    "from sklearn.utils import resample\n",
    "from sklearn.utils import shuffle\n",
    "from sklearn.metrics import confusion_matrix,classification_report\n",
    "import re\n"
   ]
  },
  {
   "cell_type": "markdown",
   "metadata": {
    "_cell_guid": "2bc2702e-d6f4-df5f-b80e-50ab23a6d29e",
    "_uuid": "9b520acffb5cd85d0e1ada968ad0f12cee33a4b5"
   },
   "source": [
    "Reading data and keeping  only the necessary columns."
   ]
  },
  {
   "cell_type": "code",
   "execution_count": 117,
   "metadata": {
    "_cell_guid": "89c8c923-c0bf-7b35-9ab8-e63f00b74e5a",
    "_uuid": "d2bc3bbd2ea3961c49e6673145a0a7226c160e58"
   },
   "outputs": [],
   "source": [
    "data = pd.read_csv('../data/Sentiment.csv')\n",
    "# Keeping only the neccessary columns\n",
    "data = data[['text','sentiment']]"
   ]
  },
  {
   "cell_type": "markdown",
   "metadata": {
    "_uuid": "68989f3bc936825f4425d2d08467ce17c4a2f092"
   },
   "source": [
    "Data preview"
   ]
  },
  {
   "cell_type": "code",
   "execution_count": 118,
   "metadata": {
    "_uuid": "f6a102c71c8e281450f7e73a5678cc9d0bb99e99"
   },
   "outputs": [
    {
     "data": {
      "text/html": [
       "<div>\n",
       "<style scoped>\n",
       "    .dataframe tbody tr th:only-of-type {\n",
       "        vertical-align: middle;\n",
       "    }\n",
       "\n",
       "    .dataframe tbody tr th {\n",
       "        vertical-align: top;\n",
       "    }\n",
       "\n",
       "    .dataframe thead th {\n",
       "        text-align: right;\n",
       "    }\n",
       "</style>\n",
       "<table border=\"1\" class=\"dataframe\">\n",
       "  <thead>\n",
       "    <tr style=\"text-align: right;\">\n",
       "      <th></th>\n",
       "      <th>text</th>\n",
       "      <th>sentiment</th>\n",
       "    </tr>\n",
       "  </thead>\n",
       "  <tbody>\n",
       "    <tr>\n",
       "      <th>0</th>\n",
       "      <td>RT @NancyLeeGrahn: How did everyone feel about...</td>\n",
       "      <td>Neutral</td>\n",
       "    </tr>\n",
       "    <tr>\n",
       "      <th>1</th>\n",
       "      <td>RT @ScottWalker: Didn't catch the full #GOPdeb...</td>\n",
       "      <td>Positive</td>\n",
       "    </tr>\n",
       "    <tr>\n",
       "      <th>2</th>\n",
       "      <td>RT @TJMShow: No mention of Tamir Rice and the ...</td>\n",
       "      <td>Neutral</td>\n",
       "    </tr>\n",
       "    <tr>\n",
       "      <th>3</th>\n",
       "      <td>RT @RobGeorge: That Carly Fiorina is trending ...</td>\n",
       "      <td>Positive</td>\n",
       "    </tr>\n",
       "    <tr>\n",
       "      <th>4</th>\n",
       "      <td>RT @DanScavino: #GOPDebate w/ @realDonaldTrump...</td>\n",
       "      <td>Positive</td>\n",
       "    </tr>\n",
       "  </tbody>\n",
       "</table>\n",
       "</div>"
      ],
      "text/plain": [
       "                                                text sentiment\n",
       "0  RT @NancyLeeGrahn: How did everyone feel about...   Neutral\n",
       "1  RT @ScottWalker: Didn't catch the full #GOPdeb...  Positive\n",
       "2  RT @TJMShow: No mention of Tamir Rice and the ...   Neutral\n",
       "3  RT @RobGeorge: That Carly Fiorina is trending ...  Positive\n",
       "4  RT @DanScavino: #GOPDebate w/ @realDonaldTrump...  Positive"
      ]
     },
     "execution_count": 118,
     "metadata": {},
     "output_type": "execute_result"
    }
   ],
   "source": [
    "data.head()"
   ]
  },
  {
   "cell_type": "markdown",
   "metadata": {
    "_cell_guid": "4c0ec63b-cdf8-8e29-812b-0fbbfcea2929",
    "_uuid": "ff12d183224670f9c4c96fd24581b9924d4dff20"
   },
   "source": [
    "Next, I am dropping the 'Neutral' sentiments as my goal was to only differentiate positive and negative tweets. After that, I am filtering the tweets so only valid texts and words remain.  Then, I define the number of max features as 2000 and use Tokenizer to vectorize and convert text into Sequences so the Network can deal with it as input."
   ]
  },
  {
   "cell_type": "code",
   "execution_count": 119,
   "metadata": {
    "_cell_guid": "43632d2d-6160-12ce-48b0-e5eb1c207076",
    "_uuid": "d0f8b4542106a279f7398db7285ae5e370b2e813"
   },
   "outputs": [
    {
     "data": {
      "text/html": [
       "<div>\n",
       "<style scoped>\n",
       "    .dataframe tbody tr th:only-of-type {\n",
       "        vertical-align: middle;\n",
       "    }\n",
       "\n",
       "    .dataframe tbody tr th {\n",
       "        vertical-align: top;\n",
       "    }\n",
       "\n",
       "    .dataframe thead th {\n",
       "        text-align: right;\n",
       "    }\n",
       "</style>\n",
       "<table border=\"1\" class=\"dataframe\">\n",
       "  <thead>\n",
       "    <tr style=\"text-align: right;\">\n",
       "      <th></th>\n",
       "      <th>text</th>\n",
       "      <th>sentiment</th>\n",
       "    </tr>\n",
       "  </thead>\n",
       "  <tbody>\n",
       "    <tr>\n",
       "      <th>1</th>\n",
       "      <td>rt scottwalker didnt catch the full gopdebate ...</td>\n",
       "      <td>Positive</td>\n",
       "    </tr>\n",
       "    <tr>\n",
       "      <th>3</th>\n",
       "      <td>rt robgeorge that carly fiorina is trending  h...</td>\n",
       "      <td>Positive</td>\n",
       "    </tr>\n",
       "    <tr>\n",
       "      <th>4</th>\n",
       "      <td>rt danscavino gopdebate w realdonaldtrump deli...</td>\n",
       "      <td>Positive</td>\n",
       "    </tr>\n",
       "    <tr>\n",
       "      <th>5</th>\n",
       "      <td>rt gregabbott_tx tedcruz on my first day i wil...</td>\n",
       "      <td>Positive</td>\n",
       "    </tr>\n",
       "    <tr>\n",
       "      <th>6</th>\n",
       "      <td>rt warriorwoman91 i liked her and was happy wh...</td>\n",
       "      <td>Negative</td>\n",
       "    </tr>\n",
       "  </tbody>\n",
       "</table>\n",
       "</div>"
      ],
      "text/plain": [
       "                                                text sentiment\n",
       "1  rt scottwalker didnt catch the full gopdebate ...  Positive\n",
       "3  rt robgeorge that carly fiorina is trending  h...  Positive\n",
       "4  rt danscavino gopdebate w realdonaldtrump deli...  Positive\n",
       "5  rt gregabbott_tx tedcruz on my first day i wil...  Positive\n",
       "6  rt warriorwoman91 i liked her and was happy wh...  Negative"
      ]
     },
     "execution_count": 119,
     "metadata": {},
     "output_type": "execute_result"
    }
   ],
   "source": [
    "data = data[data.sentiment != \"Neutral\"]\n",
    "data['text'] = data['text'].apply(lambda x: x.lower())\n",
    "# removing special chars\n",
    "data['text'] = data['text'].apply((lambda x: re.sub('[^a-zA-z0-9\\s]','',x)))\n",
    "data.head()"
   ]
  },
  {
   "cell_type": "code",
   "execution_count": 120,
   "metadata": {
    "_cell_guid": "43632d2d-6160-12ce-48b0-e5eb1c207076",
    "_uuid": "d0f8b4542106a279f7398db7285ae5e370b2e813"
   },
   "outputs": [
    {
     "name": "stdout",
     "output_type": "stream",
     "text": [
      "4472\n",
      "16986\n"
     ]
    },
    {
     "data": {
      "text/html": [
       "<div>\n",
       "<style scoped>\n",
       "    .dataframe tbody tr th:only-of-type {\n",
       "        vertical-align: middle;\n",
       "    }\n",
       "\n",
       "    .dataframe tbody tr th {\n",
       "        vertical-align: top;\n",
       "    }\n",
       "\n",
       "    .dataframe thead th {\n",
       "        text-align: right;\n",
       "    }\n",
       "</style>\n",
       "<table border=\"1\" class=\"dataframe\">\n",
       "  <thead>\n",
       "    <tr style=\"text-align: right;\">\n",
       "      <th></th>\n",
       "      <th>text</th>\n",
       "      <th>sentiment</th>\n",
       "    </tr>\n",
       "  </thead>\n",
       "  <tbody>\n",
       "    <tr>\n",
       "      <th>1</th>\n",
       "      <td>scottwalker didnt catch the full gopdebate la...</td>\n",
       "      <td>Positive</td>\n",
       "    </tr>\n",
       "    <tr>\n",
       "      <th>3</th>\n",
       "      <td>robgeorge that carly fiorina is trending  hou...</td>\n",
       "      <td>Positive</td>\n",
       "    </tr>\n",
       "    <tr>\n",
       "      <th>4</th>\n",
       "      <td>danscavino gopdebate w realdonaldtrump delive...</td>\n",
       "      <td>Positive</td>\n",
       "    </tr>\n",
       "    <tr>\n",
       "      <th>5</th>\n",
       "      <td>gregabbott_tx tedcruz on my first day i will ...</td>\n",
       "      <td>Positive</td>\n",
       "    </tr>\n",
       "    <tr>\n",
       "      <th>6</th>\n",
       "      <td>warriorwoman91 i liked her and was happy when...</td>\n",
       "      <td>Negative</td>\n",
       "    </tr>\n",
       "  </tbody>\n",
       "</table>\n",
       "</div>"
      ],
      "text/plain": [
       "                                                text sentiment\n",
       "1   scottwalker didnt catch the full gopdebate la...  Positive\n",
       "3   robgeorge that carly fiorina is trending  hou...  Positive\n",
       "4   danscavino gopdebate w realdonaldtrump delive...  Positive\n",
       "5   gregabbott_tx tedcruz on my first day i will ...  Positive\n",
       "6   warriorwoman91 i liked her and was happy when...  Negative"
      ]
     },
     "execution_count": 120,
     "metadata": {},
     "output_type": "execute_result"
    }
   ],
   "source": [
    "print(data[ data['sentiment'] == 'Positive'].size)\n",
    "print(data[ data['sentiment'] == 'Negative'].size)\n",
    "\n",
    "for idx,row in data.iterrows():\n",
    "    row[0] = row[0].replace('rt','')\n",
    "data.head()"
   ]
  },
  {
   "cell_type": "code",
   "execution_count": 121,
   "metadata": {
    "_cell_guid": "43632d2d-6160-12ce-48b0-e5eb1c207076",
    "_uuid": "d0f8b4542106a279f7398db7285ae5e370b2e813"
   },
   "outputs": [
    {
     "data": {
      "text/plain": [
       "array([[   0,    0,    0, ..., 1308, 1394,  733],\n",
       "       [   0,    0,    0, ...,  231,  713,   17],\n",
       "       [   0,    0,    0, ...,  204,  366,  678],\n",
       "       ...,\n",
       "       [   0,    0,    0, ...,   71,   65,    3],\n",
       "       [   0,    0,    0, ..., 1007, 1406,   74],\n",
       "       [   0,    0,    0, ...,  194,    3,  712]], dtype=int32)"
      ]
     },
     "execution_count": 121,
     "metadata": {},
     "output_type": "execute_result"
    }
   ],
   "source": [
    "max_fatures = 2000\n",
    "tokenizer = Tokenizer(num_words=max_fatures, split=' ')\n",
    "tokenizer.fit_on_texts(data['text'].values)\n",
    "X = tokenizer.texts_to_sequences(data['text'].values)\n",
    "X = pad_sequences(X)\n",
    "X"
   ]
  },
  {
   "cell_type": "markdown",
   "metadata": {
    "_cell_guid": "9753421e-1303-77d5-b17f-5f25fa08c452",
    "_uuid": "aa7d103e946e631133d86ef3adc73e1a8b1a1e89"
   },
   "source": [
    "Next, I compose the LSTM Network. Note that **embed_dim**, **lstm_out**, **batch_size**, **droupout_x** variables are hyperparameters, their values are somehow intuitive, can be and must be played with in order to achieve good results. Please also note that I am using softmax as activation function. The reason is that our Network is using categorical crossentropy, and softmax is just the right activation method for that."
   ]
  },
  {
   "cell_type": "code",
   "execution_count": 122,
   "metadata": {},
   "outputs": [
    {
     "data": {
      "text/plain": [
       "(10729, 28)"
      ]
     },
     "execution_count": 122,
     "metadata": {},
     "output_type": "execute_result"
    }
   ],
   "source": [
    "X.shape"
   ]
  },
  {
   "cell_type": "code",
   "execution_count": 123,
   "metadata": {
    "_cell_guid": "1ba3cf60-a83c-9c21-05e0-b14303027e93",
    "_uuid": "05cb9ef0ec9e0a4067e3ab7c1bda7b2c1211feda",
    "scrolled": true
   },
   "outputs": [
    {
     "name": "stdout",
     "output_type": "stream",
     "text": [
      "Model: \"sequential_8\"\n",
      "_________________________________________________________________\n",
      "Layer (type)                 Output Shape              Param #   \n",
      "=================================================================\n",
      "embedding_8 (Embedding)      (None, 28, 128)           256000    \n",
      "_________________________________________________________________\n",
      "spatial_dropout1d_8 (Spatial (None, 28, 128)           0         \n",
      "_________________________________________________________________\n",
      "lstm_8 (LSTM)                (None, 196)               254800    \n",
      "_________________________________________________________________\n",
      "dense_8 (Dense)              (None, 1)                 197       \n",
      "=================================================================\n",
      "Total params: 510,997\n",
      "Trainable params: 510,997\n",
      "Non-trainable params: 0\n",
      "_________________________________________________________________\n",
      "None\n"
     ]
    }
   ],
   "source": [
    "embed_dim = 128\n",
    "lstm_out = 196\n",
    "\n",
    "model = Sequential()\n",
    "model.add(Embedding(max_fatures, embed_dim, input_length = X.shape[1]))\n",
    "model.add(SpatialDropout1D(0.4))\n",
    "model.add(LSTM(lstm_out, dropout=0.2, recurrent_dropout=0.2))\n",
    "model.add(Dense(1, activation='sigmoid'))\n",
    "model.compile(loss = 'binary_crossentropy', optimizer='adam',metrics = ['accuracy'])\n",
    "print(model.summary())"
   ]
  },
  {
   "cell_type": "markdown",
   "metadata": {
    "_cell_guid": "15f4ee61-47e4-88c4-4b81-98a85237333f",
    "_uuid": "2dae0f3b95a4ba533453c512e573560a8358e162"
   },
   "source": [
    "Hereby I declare the train and test dataset."
   ]
  },
  {
   "cell_type": "code",
   "execution_count": 124,
   "metadata": {},
   "outputs": [
    {
     "data": {
      "text/html": [
       "<div>\n",
       "<style scoped>\n",
       "    .dataframe tbody tr th:only-of-type {\n",
       "        vertical-align: middle;\n",
       "    }\n",
       "\n",
       "    .dataframe tbody tr th {\n",
       "        vertical-align: top;\n",
       "    }\n",
       "\n",
       "    .dataframe thead th {\n",
       "        text-align: right;\n",
       "    }\n",
       "</style>\n",
       "<table border=\"1\" class=\"dataframe\">\n",
       "  <thead>\n",
       "    <tr style=\"text-align: right;\">\n",
       "      <th></th>\n",
       "      <th>text</th>\n",
       "      <th>sentiment</th>\n",
       "    </tr>\n",
       "  </thead>\n",
       "  <tbody>\n",
       "    <tr>\n",
       "      <th>1</th>\n",
       "      <td>scottwalker didnt catch the full gopdebate la...</td>\n",
       "      <td>Positive</td>\n",
       "    </tr>\n",
       "    <tr>\n",
       "      <th>3</th>\n",
       "      <td>robgeorge that carly fiorina is trending  hou...</td>\n",
       "      <td>Positive</td>\n",
       "    </tr>\n",
       "    <tr>\n",
       "      <th>4</th>\n",
       "      <td>danscavino gopdebate w realdonaldtrump delive...</td>\n",
       "      <td>Positive</td>\n",
       "    </tr>\n",
       "    <tr>\n",
       "      <th>5</th>\n",
       "      <td>gregabbott_tx tedcruz on my first day i will ...</td>\n",
       "      <td>Positive</td>\n",
       "    </tr>\n",
       "    <tr>\n",
       "      <th>6</th>\n",
       "      <td>warriorwoman91 i liked her and was happy when...</td>\n",
       "      <td>Negative</td>\n",
       "    </tr>\n",
       "    <tr>\n",
       "      <th>...</th>\n",
       "      <td>...</td>\n",
       "      <td>...</td>\n",
       "    </tr>\n",
       "    <tr>\n",
       "      <th>13866</th>\n",
       "      <td>cappy_yarbrough love to see men who will neve...</td>\n",
       "      <td>Negative</td>\n",
       "    </tr>\n",
       "    <tr>\n",
       "      <th>13867</th>\n",
       "      <td>georgehenryw who thought huckabee exceeded th...</td>\n",
       "      <td>Positive</td>\n",
       "    </tr>\n",
       "    <tr>\n",
       "      <th>13868</th>\n",
       "      <td>lrihendry tedcruz as president i will always ...</td>\n",
       "      <td>Positive</td>\n",
       "    </tr>\n",
       "    <tr>\n",
       "      <th>13869</th>\n",
       "      <td>jrehling gopdebate donald trump says that he ...</td>\n",
       "      <td>Negative</td>\n",
       "    </tr>\n",
       "    <tr>\n",
       "      <th>13870</th>\n",
       "      <td>lrihendry tedcruz headed into the presidentia...</td>\n",
       "      <td>Positive</td>\n",
       "    </tr>\n",
       "  </tbody>\n",
       "</table>\n",
       "<p>10729 rows × 2 columns</p>\n",
       "</div>"
      ],
      "text/plain": [
       "                                                    text sentiment\n",
       "1       scottwalker didnt catch the full gopdebate la...  Positive\n",
       "3       robgeorge that carly fiorina is trending  hou...  Positive\n",
       "4       danscavino gopdebate w realdonaldtrump delive...  Positive\n",
       "5       gregabbott_tx tedcruz on my first day i will ...  Positive\n",
       "6       warriorwoman91 i liked her and was happy when...  Negative\n",
       "...                                                  ...       ...\n",
       "13866   cappy_yarbrough love to see men who will neve...  Negative\n",
       "13867   georgehenryw who thought huckabee exceeded th...  Positive\n",
       "13868   lrihendry tedcruz as president i will always ...  Positive\n",
       "13869   jrehling gopdebate donald trump says that he ...  Negative\n",
       "13870   lrihendry tedcruz headed into the presidentia...  Positive\n",
       "\n",
       "[10729 rows x 2 columns]"
      ]
     },
     "execution_count": 124,
     "metadata": {},
     "output_type": "execute_result"
    }
   ],
   "source": [
    "data"
   ]
  },
  {
   "cell_type": "code",
   "execution_count": 125,
   "metadata": {
    "_cell_guid": "b35748b8-2353-3db2-e571-5fd22bb93eb0",
    "_uuid": "a380bbfae2d098d407b138fc44622c9913a31c07"
   },
   "outputs": [
    {
     "name": "stdout",
     "output_type": "stream",
     "text": [
      "(8583, 28) (8583,)\n",
      "(2146, 28) (2146,)\n"
     ]
    },
    {
     "data": {
      "text/plain": [
       "8583"
      ]
     },
     "execution_count": 125,
     "metadata": {},
     "output_type": "execute_result"
    }
   ],
   "source": [
    "Y = pd.get_dummies(data['sentiment']).values\n",
    "target = Y[:, 0]\n",
    "X_train, X_test, Y_train, Y_test = train_test_split(X, target,test_size = 0.20, random_state = 42, shuffle=False)\n",
    "print(X_train.shape,Y_train.shape)\n",
    "print(X_test.shape,Y_test.shape)\n",
    "\n",
    "X_train_shape = X_train.shape[0]\n",
    "X_train_shape"
   ]
  },
  {
   "cell_type": "markdown",
   "metadata": {
    "_cell_guid": "2a775979-a930-e627-2963-18557d7bf6e6",
    "_uuid": "8799a667a2c0254cb367c193d86e07ee36d91dd7"
   },
   "source": [
    "Here we train the Network. We should run much more than 7 epoch, but I would have to wait forever for kaggle, so it is 7 for now."
   ]
  },
  {
   "cell_type": "code",
   "execution_count": 127,
   "metadata": {
    "_cell_guid": "d5e499ac-2eba-6ff7-8d9a-ff65eb04099b",
    "_uuid": "d0b239912cf67294a9f5af6883bb159c44318fc7",
    "scrolled": true
   },
   "outputs": [
    {
     "name": "stdout",
     "output_type": "stream",
     "text": [
      "Epoch 1/15\n",
      "8583/8583 [==============================] - 10s 1ms/sample - loss: 0.4956 - acc: 0.7937\n",
      "Epoch 2/15\n",
      "8583/8583 [==============================] - 8s 981us/sample - loss: 0.3610 - acc: 0.8499\n",
      "Epoch 3/15\n",
      "8583/8583 [==============================] - 8s 935us/sample - loss: 0.2950 - acc: 0.8759\n",
      "Epoch 4/15\n",
      "8583/8583 [==============================] - 8s 941us/sample - loss: 0.2692 - acc: 0.8882\n",
      "Epoch 5/15\n",
      "8583/8583 [==============================] - 8s 940us/sample - loss: 0.2487 - acc: 0.8961\n",
      "Epoch 6/15\n",
      "8583/8583 [==============================] - 9s 993us/sample - loss: 0.2381 - acc: 0.9035\n",
      "Epoch 7/15\n",
      "8583/8583 [==============================] - 8s 969us/sample - loss: 0.2225 - acc: 0.9078\n",
      "Epoch 8/15\n",
      "8583/8583 [==============================] - 8s 938us/sample - loss: 0.2131 - acc: 0.9112\n",
      "Epoch 9/15\n",
      "8583/8583 [==============================] - 8s 959us/sample - loss: 0.1924 - acc: 0.9212\n",
      "Epoch 10/15\n",
      "8583/8583 [==============================] - 9s 1ms/sample - loss: 0.1807 - acc: 0.9275\n",
      "Epoch 11/15\n",
      "8583/8583 [==============================] - 9s 1ms/sample - loss: 0.1731 - acc: 0.9285\n",
      "Epoch 12/15\n",
      "8583/8583 [==============================] - 10s 1ms/sample - loss: 0.1722 - acc: 0.9299\n",
      "Epoch 13/15\n",
      "8583/8583 [==============================] - 9s 1ms/sample - loss: 0.1564 - acc: 0.9366\n",
      "Epoch 14/15\n",
      "8583/8583 [==============================] - 10s 1ms/sample - loss: 0.1475 - acc: 0.9416\n",
      "Epoch 15/15\n",
      "8583/8583 [==============================] - 9s 1ms/sample - loss: 0.1399 - acc: 0.9423\n"
     ]
    },
    {
     "data": {
      "text/plain": [
       "<tensorflow.python.keras.callbacks.History at 0x7ffb7054dd30>"
      ]
     },
     "execution_count": 127,
     "metadata": {},
     "output_type": "execute_result"
    }
   ],
   "source": [
    "batch_size = 128\n",
    "model.fit(X_train, Y_train, epochs = 15, batch_size=batch_size, verbose = 1)"
   ]
  },
  {
   "cell_type": "markdown",
   "metadata": {
    "_cell_guid": "4ebd7bc1-53c0-0e31-a0b0-b6d0a3017434",
    "_uuid": "47e99d7ed1f27a85eb01dbafc71b66b329fb1d12"
   },
   "source": [
    "Extracting a validation set, and measuring score and accuracy."
   ]
  },
  {
   "cell_type": "code",
   "execution_count": 128,
   "metadata": {
    "_uuid": "4701961e44bd243e505fc2c1b53b323311ad2b80"
   },
   "outputs": [],
   "source": [
    "Y_pred = model.predict(X_test, batch_size = batch_size)\n",
    "Y_pred = [float(x) for x in Y_pred]"
   ]
  },
  {
   "cell_type": "code",
   "execution_count": 129,
   "metadata": {},
   "outputs": [
    {
     "data": {
      "text/plain": [
       "[0.9890376329421997,\n",
       " 0.08637002110481262,\n",
       " 0.9815987348556519,\n",
       " 0.7783682346343994,\n",
       " 0.9985710382461548,\n",
       " 0.760236382484436,\n",
       " 0.3336275517940521,\n",
       " 0.9502127170562744,\n",
       " 0.9989206194877625,\n",
       " 0.7776509523391724]"
      ]
     },
     "execution_count": 129,
     "metadata": {},
     "output_type": "execute_result"
    }
   ],
   "source": [
    "Y_pred[0:10]"
   ]
  },
  {
   "cell_type": "markdown",
   "metadata": {},
   "source": [
    "# Explain the model with DeepExplainer\n"
   ]
  },
  {
   "cell_type": "code",
   "execution_count": 144,
   "metadata": {},
   "outputs": [
    {
     "name": "stdout",
     "output_type": "stream",
     "text": [
      "CPU times: user 0 ns, sys: 0 ns, total: 0 ns\n",
      "Wall time: 20.7 µs\n"
     ]
    }
   ],
   "source": [
    "import shap\n",
    "\n",
    "\n",
    "# we use the first 100 training examples as our background dataset to integrate over\n",
    "# explainer = shap.DeepExplainer(model.predict, X_train[:100])\n",
    "explainer = shap.DeepExplainer(model, X_train[:500])\n",
    "\n",
    "# explain the first 10 predictions\n",
    "# explaining each prediction requires 2 * background dataset size runs\n",
    "shap_values = explainer.shap_values(X_test[:10])"
   ]
  },
  {
   "cell_type": "code",
   "execution_count": 134,
   "metadata": {},
   "outputs": [
    {
     "data": {
      "text/plain": [
       "(10, 28)"
      ]
     },
     "execution_count": 134,
     "metadata": {},
     "output_type": "execute_result"
    }
   ],
   "source": [
    "shap_values[0].shape"
   ]
  },
  {
   "cell_type": "code",
   "execution_count": 135,
   "metadata": {},
   "outputs": [
    {
     "data": {
      "text/plain": [
       "{'the': 1,\n",
       " 'gopdebate': 2,\n",
       " 'gopdebates': 3,\n",
       " 'to': 4,\n",
       " 'is': 5,\n",
       " 'of': 6,\n",
       " 'a': 7,\n",
       " 'and': 8,\n",
       " 'i': 9,\n",
       " 'rwsurfergirl': 10,\n",
       " 'you': 11,\n",
       " 'in': 12,\n",
       " 'it': 13,\n",
       " 'for': 14,\n",
       " 'trump': 15,\n",
       " 'that': 16,\n",
       " 'on': 17,\n",
       " 'fox': 18,\n",
       " 'not': 19,\n",
       " 'this': 20,\n",
       " 'was': 21,\n",
       " 'about': 22,\n",
       " 'realdonaldtrump': 23,\n",
       " 'amp': 24,\n",
       " 'news': 25,\n",
       " 'debate': 26,\n",
       " 'from': 27,\n",
       " 'have': 28,\n",
       " 'at': 29,\n",
       " 'we': 30,\n",
       " 'me': 31,\n",
       " 'but': 32,\n",
       " 'he': 33,\n",
       " 'be': 34,\n",
       " 'candidates': 35,\n",
       " 'just': 36,\n",
       " 'are': 37,\n",
       " 'like': 38,\n",
       " 'last': 39,\n",
       " 'they': 40,\n",
       " 'so': 41,\n",
       " 'gop': 42,\n",
       " 'dont': 43,\n",
       " 'megynkelly': 44,\n",
       " 'with': 45,\n",
       " 'all': 46,\n",
       " 'up': 47,\n",
       " 'what': 48,\n",
       " 'people': 49,\n",
       " 'jeb': 50,\n",
       " 'foxnews': 51,\n",
       " 'who': 52,\n",
       " 'my': 53,\n",
       " 'how': 54,\n",
       " 'as': 55,\n",
       " 'if': 56,\n",
       " 'bush': 57,\n",
       " 'night': 58,\n",
       " 'has': 59,\n",
       " 'no': 60,\n",
       " 'their': 61,\n",
       " 'by': 62,\n",
       " 'when': 63,\n",
       " 'can': 64,\n",
       " 'do': 65,\n",
       " 'one': 66,\n",
       " 'more': 67,\n",
       " 'im': 68,\n",
       " 'out': 69,\n",
       " 'or': 70,\n",
       " 'would': 71,\n",
       " 'his': 72,\n",
       " 'chris': 73,\n",
       " 'him': 74,\n",
       " 'get': 75,\n",
       " 'think': 76,\n",
       " 'republican': 77,\n",
       " 'donald': 78,\n",
       " 'president': 79,\n",
       " 'really': 80,\n",
       " 'its': 81,\n",
       " 'will': 82,\n",
       " 'why': 83,\n",
       " 'want': 84,\n",
       " 'did': 85,\n",
       " 'ask': 86,\n",
       " 'cruz': 87,\n",
       " 'god': 88,\n",
       " 'need': 89,\n",
       " 'these': 90,\n",
       " 'questions': 91,\n",
       " 'your': 92,\n",
       " 'rubio': 93,\n",
       " 'should': 94,\n",
       " 'them': 95,\n",
       " 'carson': 96,\n",
       " 'next': 97,\n",
       " 'wallace': 98,\n",
       " 'an': 99,\n",
       " 'very': 100,\n",
       " 'than': 101,\n",
       " 'after': 102,\n",
       " 'only': 103,\n",
       " 'question': 104,\n",
       " 'were': 105,\n",
       " 'said': 106,\n",
       " 'women': 107,\n",
       " 'time': 108,\n",
       " 'doesnt': 109,\n",
       " 'know': 110,\n",
       " 'our': 111,\n",
       " 'fair': 112,\n",
       " 'other': 113,\n",
       " 'does': 114,\n",
       " 'now': 115,\n",
       " 'huckabee': 116,\n",
       " 'watching': 117,\n",
       " 'anyone': 118,\n",
       " 'tonight': 119,\n",
       " 'didnt': 120,\n",
       " 'right': 121,\n",
       " 'trying': 122,\n",
       " 'face': 123,\n",
       " 'candidate': 124,\n",
       " 'tedcruz': 125,\n",
       " 'balanced': 126,\n",
       " 'job': 127,\n",
       " 'hear': 128,\n",
       " 'american': 129,\n",
       " 'most': 130,\n",
       " 'see': 131,\n",
       " 'go': 132,\n",
       " 'where': 133,\n",
       " 'any': 134,\n",
       " 'pay': 135,\n",
       " 'cant': 136,\n",
       " 'good': 137,\n",
       " 'youre': 138,\n",
       " 'megyn': 139,\n",
       " 'america': 140,\n",
       " 'listen': 141,\n",
       " 'say': 142,\n",
       " 'stage': 143,\n",
       " 'great': 144,\n",
       " 'money': 145,\n",
       " 'got': 146,\n",
       " 'nights': 147,\n",
       " 'never': 148,\n",
       " 'attack': 149,\n",
       " 'reminds': 150,\n",
       " 'tcot': 151,\n",
       " 'us': 152,\n",
       " 'else': 153,\n",
       " 'field': 154,\n",
       " 'supermanhotmale': 155,\n",
       " 'am': 156,\n",
       " 'monaeltahawy': 157,\n",
       " 'take': 158,\n",
       " 'doing': 159,\n",
       " 'music': 160,\n",
       " 'there': 161,\n",
       " 'elevator': 162,\n",
       " 'obviously': 163,\n",
       " 'talk': 164,\n",
       " 'ben': 165,\n",
       " 'walker': 166,\n",
       " 'influence': 167,\n",
       " 'g': 168,\n",
       " 'set': 169,\n",
       " 'her': 170,\n",
       " 'men': 171,\n",
       " 'best': 172,\n",
       " 'speaking': 173,\n",
       " 'gets': 174,\n",
       " 'pick': 175,\n",
       " 'makeup': 176,\n",
       " 'make': 177,\n",
       " 'carlyfiorina': 178,\n",
       " 'disappointing': 179,\n",
       " 'look': 180,\n",
       " 'thanks': 181,\n",
       " 'states': 182,\n",
       " 'presidential': 183,\n",
       " 'had': 184,\n",
       " 'she': 185,\n",
       " 'going': 186,\n",
       " 'paul': 187,\n",
       " 'united': 188,\n",
       " 'military': 189,\n",
       " 'even': 190,\n",
       " 'obama': 191,\n",
       " 'conducting': 192,\n",
       " 'kasich': 193,\n",
       " 'ted': 194,\n",
       " 'over': 195,\n",
       " 'being': 196,\n",
       " 'watch': 197,\n",
       " 'comes': 198,\n",
       " 'punch': 199,\n",
       " 'vote': 200,\n",
       " 'kelly': 201,\n",
       " 'gopdebat': 202,\n",
       " 'because': 203,\n",
       " 'debates': 204,\n",
       " 'many': 205,\n",
       " 'rid': 206,\n",
       " 'some': 207,\n",
       " 'real': 208,\n",
       " 'tell': 209,\n",
       " '2': 210,\n",
       " 'much': 211,\n",
       " 's': 212,\n",
       " 'better': 213,\n",
       " 'ratings': 214,\n",
       " 'country': 215,\n",
       " 'love': 216,\n",
       " 'each': 217,\n",
       " 'hes': 218,\n",
       " 'well': 219,\n",
       " 'id': 220,\n",
       " 'hillary': 221,\n",
       " 'talking': 222,\n",
       " 'won': 223,\n",
       " 'stoping': 224,\n",
       " 'rights': 225,\n",
       " 'man': 226,\n",
       " 'during': 227,\n",
       " 'rand': 228,\n",
       " 'together': 229,\n",
       " 'christie': 230,\n",
       " 'says': 231,\n",
       " 'issues': 232,\n",
       " 'mean': 233,\n",
       " 'here': 234,\n",
       " 'big': 235,\n",
       " 'band': 236,\n",
       " 'expose': 237,\n",
       " 'randpaul': 238,\n",
       " 'softball': 239,\n",
       " 'off': 240,\n",
       " 'show': 241,\n",
       " 'oh': 242,\n",
       " 'into': 243,\n",
       " 'break': 244,\n",
       " 'long': 245,\n",
       " 'thats': 246,\n",
       " 'finances': 247,\n",
       " 'picking': 248,\n",
       " 'fiorina': 249,\n",
       " 'been': 250,\n",
       " 'republicans': 251,\n",
       " 'bring': 252,\n",
       " 'politicans': 253,\n",
       " 'someone': 254,\n",
       " 'suppo': 255,\n",
       " 'win': 256,\n",
       " 'kill': 257,\n",
       " 'too': 258,\n",
       " 'social': 259,\n",
       " 'cherry': 260,\n",
       " 'first': 261,\n",
       " 'wont': 262,\n",
       " 'http': 263,\n",
       " 'donaldtrump': 264,\n",
       " 'still': 265,\n",
       " 'then': 266,\n",
       " 'back': 267,\n",
       " 'political': 268,\n",
       " 'thing': 269,\n",
       " 'made': 270,\n",
       " 'immigration': 271,\n",
       " 'speak': 272,\n",
       " 'via': 273,\n",
       " 'way': 274,\n",
       " 'moderators': 275,\n",
       " 'govchristie': 276,\n",
       " 'trumps': 277,\n",
       " 'truth': 278,\n",
       " 'things': 279,\n",
       " 'seem': 280,\n",
       " 'carly': 281,\n",
       " 'winner': 282,\n",
       " 'jebbush': 283,\n",
       " 'could': 284,\n",
       " 'new': 285,\n",
       " 'sure': 286,\n",
       " 'looking': 287,\n",
       " 'adult': 288,\n",
       " '10': 289,\n",
       " 'control': 290,\n",
       " 'woman': 291,\n",
       " 'white': 292,\n",
       " 'marcorubio': 293,\n",
       " 'given': 294,\n",
       " 'posed': 295,\n",
       " 'raising': 296,\n",
       " 'marco': 297,\n",
       " 'realbencarson': 298,\n",
       " 'picturesshould': 299,\n",
       " 'w': 300,\n",
       " 'every': 301,\n",
       " 'scott': 302,\n",
       " 'hey': 303,\n",
       " 'ever': 304,\n",
       " '1': 305,\n",
       " 'answer': 306,\n",
       " 'aboion': 307,\n",
       " 'black': 308,\n",
       " 'u': 309,\n",
       " 'let': 310,\n",
       " 'down': 311,\n",
       " 'lol': 312,\n",
       " 'thinks': 313,\n",
       " 'actually': 314,\n",
       " 'always': 315,\n",
       " 'dear': 316,\n",
       " 'plan': 317,\n",
       " 'gopd': 318,\n",
       " 'kkkorgop': 319,\n",
       " 'everyone': 320,\n",
       " 'democrats': 321,\n",
       " 'lrihendry': 322,\n",
       " 'those': 323,\n",
       " 'ive': 324,\n",
       " 'same': 325,\n",
       " 'hillaryclinton': 326,\n",
       " 'forward': 327,\n",
       " 'dr': 328,\n",
       " 'word': 329,\n",
       " 'blacklivesmatter': 330,\n",
       " 'call': 331,\n",
       " 'govmikehuckabee': 332,\n",
       " 'lets': 333,\n",
       " 'give': 334,\n",
       " 'life': 335,\n",
       " 'leader': 336,\n",
       " 'saying': 337,\n",
       " 'war': 338,\n",
       " 'johnkasich': 339,\n",
       " 'world': 340,\n",
       " 'again': 341,\n",
       " 'legitimate': 342,\n",
       " 'bad': 343,\n",
       " 'wants': 344,\n",
       " 'admit': 345,\n",
       " 'purpose': 346,\n",
       " 'hell': 347,\n",
       " 'hands': 348,\n",
       " 'nothing': 349,\n",
       " 'lead': 350,\n",
       " 'nails': 351,\n",
       " 'order': 352,\n",
       " 'against': 353,\n",
       " 'wallaces': 354,\n",
       " 'run': 355,\n",
       " 'seen': 356,\n",
       " 'guy': 357,\n",
       " 'enough': 358,\n",
       " 'scottwalker': 359,\n",
       " 'womens': 360,\n",
       " 'problem': 361,\n",
       " 'twitter': 362,\n",
       " 'guys': 363,\n",
       " 'needs': 364,\n",
       " 'enjoyed': 365,\n",
       " 'trump2016': 366,\n",
       " 'chrischristie': 367,\n",
       " 'please': 368,\n",
       " 'person': 369,\n",
       " 'seriously': 370,\n",
       " 'politics': 371,\n",
       " 'fight': 372,\n",
       " 'tv': 373,\n",
       " 'yes': 374,\n",
       " 'thought': 375,\n",
       " 'media': 376,\n",
       " 'hate': 377,\n",
       " 'stop': 378,\n",
       " 'another': 379,\n",
       " 'two': 380,\n",
       " 'keep': 381,\n",
       " 'bodies': 382,\n",
       " 'makes': 383,\n",
       " 'calling': 384,\n",
       " 'which': 385,\n",
       " 'state': 386,\n",
       " 'learned': 387,\n",
       " 'years': 388,\n",
       " 'biggest': 389,\n",
       " 'looks': 390,\n",
       " 'americans': 391,\n",
       " 'true': 392,\n",
       " 'change': 393,\n",
       " 'while': 394,\n",
       " 'foxdebate': 395,\n",
       " 'fact': 396,\n",
       " 'wasnt': 397,\n",
       " 'care': 398,\n",
       " 'happened': 399,\n",
       " 'misogyny': 400,\n",
       " 'nomination': 401,\n",
       " 'iran': 402,\n",
       " 'democraticdebates': 403,\n",
       " 'day': 404,\n",
       " 'little': 405,\n",
       " 'getting': 406,\n",
       " 'donniewahlberg': 407,\n",
       " 'asked': 408,\n",
       " 'politicians': 409,\n",
       " 'fun': 410,\n",
       " 'hard': 411,\n",
       " 'watched': 412,\n",
       " 'potus': 413,\n",
       " 'race': 414,\n",
       " 'closing': 415,\n",
       " 'shit': 416,\n",
       " 'audience': 417,\n",
       " 'point': 418,\n",
       " 'lot': 419,\n",
       " 'away': 420,\n",
       " 'boy': 421,\n",
       " 'voting': 422,\n",
       " 'john': 423,\n",
       " 'climate': 424,\n",
       " '2016': 425,\n",
       " 'deserve': 426,\n",
       " 'isnt': 427,\n",
       " 'put': 428,\n",
       " 'damn': 429,\n",
       " 'terrorism': 430,\n",
       " 'civil': 431,\n",
       " 'bettyfckinwhite': 432,\n",
       " 'doubledigit': 433,\n",
       " 'illegal': 434,\n",
       " 'voters': 435,\n",
       " 'bretbaier': 436,\n",
       " 'frankluntz': 437,\n",
       " 'something': 438,\n",
       " 'running': 439,\n",
       " 'conservative': 440,\n",
       " 'thank': 441,\n",
       " 'making': 442,\n",
       " 'clinton': 443,\n",
       " 'believe': 444,\n",
       " 'jamiaw': 445,\n",
       " 'comments': 446,\n",
       " 'theyre': 447,\n",
       " 'before': 448,\n",
       " 'pretty': 449,\n",
       " 'reagan': 450,\n",
       " 'act': 451,\n",
       " 'clear': 452,\n",
       " 'today': 453,\n",
       " 'hair': 454,\n",
       " 'feel': 455,\n",
       " 'ill': 456,\n",
       " 'future': 457,\n",
       " 'frontrunner': 458,\n",
       " 'own': 459,\n",
       " 'under': 460,\n",
       " 'democrat': 461,\n",
       " 'anything': 462,\n",
       " 'wait': 463,\n",
       " 'work': 464,\n",
       " 'mike': 465,\n",
       " 'brought': 466,\n",
       " 'salmasekela': 467,\n",
       " 'httpt': 468,\n",
       " 'single': 469,\n",
       " 'wins': 470,\n",
       " 'come': 471,\n",
       " 'stupid': 472,\n",
       " 'times': 473,\n",
       " 'performance': 474,\n",
       " 'called': 475,\n",
       " 'gave': 476,\n",
       " 'debatewithbernie': 477,\n",
       " 'less': 478,\n",
       " 'poor': 479,\n",
       " 'seems': 480,\n",
       " 'loser': 481,\n",
       " 'larryelder': 482,\n",
       " 'thingsmike': 483,\n",
       " 'planned': 484,\n",
       " 'far': 485,\n",
       " 'sta': 486,\n",
       " 'mention': 487,\n",
       " 'bunch': 488,\n",
       " 'wrong': 489,\n",
       " 'nobody': 490,\n",
       " 'whole': 491,\n",
       " 'favorite': 492,\n",
       " 'answers': 493,\n",
       " 'campaign': 494,\n",
       " 'came': 495,\n",
       " 'fucking': 496,\n",
       " 'kind': 497,\n",
       " 'nine': 498,\n",
       " 'police': 499,\n",
       " 'morning': 500,\n",
       " 'lost': 501,\n",
       " 'maybe': 502,\n",
       " 'wow': 503,\n",
       " 'cnn': 504,\n",
       " 'tax': 505,\n",
       " 'pa': 506,\n",
       " 'code': 507,\n",
       " 'ericstonestreet': 508,\n",
       " 'cam': 509,\n",
       " 'gay': 510,\n",
       " 'jesus': 511,\n",
       " 'done': 512,\n",
       " '4': 513,\n",
       " 'gopdeb': 514,\n",
       " 'sense': 515,\n",
       " '5': 516,\n",
       " 'live': 517,\n",
       " 'also': 518,\n",
       " 'remove': 519,\n",
       " 'process': 520,\n",
       " 'loved': 521,\n",
       " 'parenthood': 522,\n",
       " 'rosie': 523,\n",
       " 'fat': 524,\n",
       " '3': 525,\n",
       " 'went': 526,\n",
       " 'florida': 527,\n",
       " 'end': 528,\n",
       " 'words': 529,\n",
       " 'tonights': 530,\n",
       " 'christian': 531,\n",
       " 'may': 532,\n",
       " 'everything': 533,\n",
       " 'help': 534,\n",
       " 'hope': 535,\n",
       " 'kids': 536,\n",
       " 'fuck': 537,\n",
       " 'hugged': 538,\n",
       " 'hold': 539,\n",
       " 'twitterland': 540,\n",
       " 'line': 541,\n",
       " 'class': 542,\n",
       " 'isis': 543,\n",
       " 'focus': 544,\n",
       " 'saw': 545,\n",
       " 'impoant': 546,\n",
       " 'conservatives': 547,\n",
       " 'having': 548,\n",
       " 'top': 549,\n",
       " 'r': 550,\n",
       " 'group': 551,\n",
       " 'agree': 552,\n",
       " 'racism': 553,\n",
       " 'used': 554,\n",
       " 'green': 555,\n",
       " 'moderator': 556,\n",
       " 'respect': 557,\n",
       " 'must': 558,\n",
       " 'giving': 559,\n",
       " 'old': 560,\n",
       " 'without': 561,\n",
       " 'enteaining': 562,\n",
       " 'deal': 563,\n",
       " 'pimps': 564,\n",
       " 'game': 565,\n",
       " 'record': 566,\n",
       " 'whos': 567,\n",
       " 'matter': 568,\n",
       " 'p2': 569,\n",
       " 'gonna': 570,\n",
       " 'reality': 571,\n",
       " 'security': 572,\n",
       " 'cancel': 573,\n",
       " 'primaries': 574,\n",
       " 'funny': 575,\n",
       " 'primary': 576,\n",
       " 'vs': 577,\n",
       " 'asking': 578,\n",
       " 'sexuality': 579,\n",
       " 'apple': 580,\n",
       " 'brain': 581,\n",
       " 'election': 582,\n",
       " 'half': 583,\n",
       " 'winners': 584,\n",
       " 'discussing': 585,\n",
       " 'tough': 586,\n",
       " 'find': 587,\n",
       " 'killing': 588,\n",
       " 'facebook': 589,\n",
       " 'thoughts': 590,\n",
       " 'ass': 591,\n",
       " 'tight': 592,\n",
       " 'stay': 593,\n",
       " 'maini': 594,\n",
       " 'government': 595,\n",
       " 'head': 596,\n",
       " 'moment': 597,\n",
       " 'name': 598,\n",
       " 'correct': 599,\n",
       " 'issue': 600,\n",
       " 'sentedcruz': 601,\n",
       " 'gun': 602,\n",
       " 'pissed': 603,\n",
       " 'disappointed': 604,\n",
       " 'foxnewsdebate': 605,\n",
       " 'heard': 606,\n",
       " 'himself': 607,\n",
       " 'guess': 608,\n",
       " 'dwstweets': 609,\n",
       " 'couldnt': 610,\n",
       " 'told': 611,\n",
       " 'prolife': 612,\n",
       " 'theres': 613,\n",
       " 'losers': 614,\n",
       " 'koch': 615,\n",
       " 'instead': 616,\n",
       " 'read': 617,\n",
       " 'mentioned': 618,\n",
       " 'left': 619,\n",
       " 'once': 620,\n",
       " 'ccot': 621,\n",
       " 'arent': 622,\n",
       " 'laws': 623,\n",
       " 'none': 624,\n",
       " 'between': 625,\n",
       " 'around': 626,\n",
       " 'goldietaylor': 627,\n",
       " 'anointed': 628,\n",
       " 'thebaxterbean': 629,\n",
       " 'ht': 630,\n",
       " 'wonder': 631,\n",
       " 'gopde': 632,\n",
       " 'failed': 633,\n",
       " 'both': 634,\n",
       " 'play': 635,\n",
       " 'absolutely': 636,\n",
       " 'ok': 637,\n",
       " 'attacks': 638,\n",
       " 'showed': 639,\n",
       " 'comedy': 640,\n",
       " 'received': 641,\n",
       " 'talks': 642,\n",
       " 'correctness': 643,\n",
       " 'gov': 644,\n",
       " 'heres': 645,\n",
       " 'remember': 646,\n",
       " '1st': 647,\n",
       " 'httptc': 648,\n",
       " 'wondering': 649,\n",
       " 'yet': 650,\n",
       " 'took': 651,\n",
       " 'statement': 652,\n",
       " 'bencarson': 653,\n",
       " 'ronald': 654,\n",
       " 'gone': 655,\n",
       " 'gopdeba': 656,\n",
       " 'become': 657,\n",
       " 'sorry': 658,\n",
       " 'pattonoswalt': 659,\n",
       " 'calls': 660,\n",
       " 'cut': 661,\n",
       " 'politically': 662,\n",
       " 'points': 663,\n",
       " 'missed': 664,\n",
       " 'pjnet': 665,\n",
       " 'straight': 666,\n",
       " 'check': 667,\n",
       " 'berniesanders': 668,\n",
       " 'until': 669,\n",
       " 'idiots': 670,\n",
       " 'minutes': 671,\n",
       " 'obamacare': 672,\n",
       " 'stands': 673,\n",
       " 'morningjoe': 674,\n",
       " 'kwrcrow': 675,\n",
       " 'canttrustabush': 676,\n",
       " 'headed': 677,\n",
       " 'httptco': 678,\n",
       " 'jobs': 679,\n",
       " 'shut': 680,\n",
       " 'whats': 681,\n",
       " 'totally': 682,\n",
       " 'miss': 683,\n",
       " 'proud': 684,\n",
       " 'friends': 685,\n",
       " 'usa': 686,\n",
       " 'bimbo': 687,\n",
       " 'shows': 688,\n",
       " 'office': 689,\n",
       " 'nice': 690,\n",
       " 'httptcoauhlnza3ww': 691,\n",
       " 'full': 692,\n",
       " 'history': 693,\n",
       " 'destroy': 694,\n",
       " 'cruzcrew': 695,\n",
       " 'joke': 696,\n",
       " 'lies': 697,\n",
       " 'themselves': 698,\n",
       " 'stand': 699,\n",
       " 'kellyfile': 700,\n",
       " 'recap': 701,\n",
       " 'use': 702,\n",
       " 'imwithhuck': 703,\n",
       " 'games': 704,\n",
       " 'total': 705,\n",
       " 'bernie': 706,\n",
       " 'wall': 707,\n",
       " 'interesting': 708,\n",
       " 'realize': 709,\n",
       " 'prostitutes': 710,\n",
       " 'yeah': 711,\n",
       " 'httptco8s67pz8a4a': 712,\n",
       " 'shes': 713,\n",
       " 'sad': 714,\n",
       " 'refuse': 715,\n",
       " 'sexism': 716,\n",
       " 'place': 717,\n",
       " 'rich': 718,\n",
       " 'racist': 719,\n",
       " 'leave': 720,\n",
       " 'past': 721,\n",
       " 'sma': 722,\n",
       " 'send': 723,\n",
       " 'knows': 724,\n",
       " 'common': 725,\n",
       " 'cruzs': 726,\n",
       " 'dc': 727,\n",
       " 'goptbt': 728,\n",
       " 'policies': 729,\n",
       " 'httpst': 730,\n",
       " 'yall': 731,\n",
       " 'church': 732,\n",
       " 'walker16': 733,\n",
       " 'https': 734,\n",
       " 'folks': 735,\n",
       " 'business': 736,\n",
       " 'statements': 737,\n",
       " 'drudge': 738,\n",
       " 'poll': 739,\n",
       " 'mexican': 740,\n",
       " 'youtube': 741,\n",
       " 'chance': 742,\n",
       " 'wish': 743,\n",
       " '8': 744,\n",
       " 'direct': 745,\n",
       " 'human': 746,\n",
       " 'rather': 747,\n",
       " 'personal': 748,\n",
       " 'analysis': 749,\n",
       " 'marriage': 750,\n",
       " 'hilarious': 751,\n",
       " 'dream': 752,\n",
       " 'second': 753,\n",
       " 'lives': 754,\n",
       " 'congress': 755,\n",
       " 'liberal': 756,\n",
       " 'puestoloco': 757,\n",
       " 'marymauldin': 758,\n",
       " 'reason': 759,\n",
       " 'clown': 760,\n",
       " 'glad': 761,\n",
       " 'worst': 762,\n",
       " 'families': 763,\n",
       " 'huge': 764,\n",
       " 'might': 765,\n",
       " 'probably': 766,\n",
       " 'tried': 767,\n",
       " 'definitely': 768,\n",
       " 'die': 769,\n",
       " 'breaking': 770,\n",
       " 'earned': 771,\n",
       " 'since': 772,\n",
       " 'clowns': 773,\n",
       " 'perry': 774,\n",
       " 'establishment': 775,\n",
       " 'unless': 776,\n",
       " 'tedcruz2016': 777,\n",
       " 'public': 778,\n",
       " 'idea': 779,\n",
       " 'commercial': 780,\n",
       " 'air': 781,\n",
       " 'untill': 782,\n",
       " 'working': 783,\n",
       " 'policy': 784,\n",
       " 'bill': 785,\n",
       " 'crazy': 786,\n",
       " 'bankruptcy': 787,\n",
       " 'either': 788,\n",
       " 'irandeal': 789,\n",
       " 'finally': 790,\n",
       " 'mind': 791,\n",
       " 'tweets': 792,\n",
       " 'b': 793,\n",
       " 'number': 794,\n",
       " 'sounds': 795,\n",
       " 'legal': 796,\n",
       " 'pro': 797,\n",
       " 'boo': 798,\n",
       " 'economy': 799,\n",
       " 'through': 800,\n",
       " 'dad': 801,\n",
       " 'wisconsin': 802,\n",
       " 'hates': 803,\n",
       " 'dems': 804,\n",
       " 'facing': 805,\n",
       " 'beat': 806,\n",
       " 'sober': 807,\n",
       " 'httptcozy12bdukx9': 808,\n",
       " 'hours': 809,\n",
       " 'anymore': 810,\n",
       " 'proved': 811,\n",
       " 'walkers': 812,\n",
       " 're': 813,\n",
       " 'response': 814,\n",
       " 'status': 815,\n",
       " 'impressed': 816,\n",
       " 'playing': 817,\n",
       " 'though': 818,\n",
       " 'except': 819,\n",
       " 'ppl': 820,\n",
       " 'year': 821,\n",
       " 'shame': 822,\n",
       " 'waiting': 823,\n",
       " 'fucked': 824,\n",
       " 'wouldnt': 825,\n",
       " 'megan': 826,\n",
       " 'high': 827,\n",
       " 'iraq': 828,\n",
       " 'pledge': 829,\n",
       " 'disgusting': 830,\n",
       " 'coming': 831,\n",
       " 'afraid': 832,\n",
       " 'knew': 833,\n",
       " 'violence': 834,\n",
       " 'ones': 835,\n",
       " 'laugh': 836,\n",
       " 'voter': 837,\n",
       " 'sexist': 838,\n",
       " 'different': 839,\n",
       " 'mr': 840,\n",
       " 'drink': 841,\n",
       " 'thinking': 842,\n",
       " 'unfathomable': 843,\n",
       " 'wassermanschultz': 844,\n",
       " 'postmoem': 845,\n",
       " 'surreal': 846,\n",
       " 'tweet': 847,\n",
       " 'brother': 848,\n",
       " 'mess': 849,\n",
       " 'pres': 850,\n",
       " 'hangover': 851,\n",
       " 'biased': 852,\n",
       " 'changed': 853,\n",
       " 'honestly': 854,\n",
       " 'gt': 855,\n",
       " 'alien': 856,\n",
       " 'unions': 857,\n",
       " 'reform': 858,\n",
       " 'gopclowncar': 859,\n",
       " 'killed': 860,\n",
       " 'makeamericagreatagain': 861,\n",
       " 'basically': 862,\n",
       " 'least': 863,\n",
       " 'spent': 864,\n",
       " 'brothers': 865,\n",
       " 'nominee': 866,\n",
       " 'few': 867,\n",
       " 'learn': 868,\n",
       " 'already': 869,\n",
       " 'perfect': 870,\n",
       " 'liar': 871,\n",
       " 'circus': 872,\n",
       " 'ridiculous': 873,\n",
       " 'system': 874,\n",
       " 'senator': 875,\n",
       " 'veterans': 876,\n",
       " 'jsc1835': 877,\n",
       " 'desdemona4u': 878,\n",
       " '911': 879,\n",
       " 'comment': 880,\n",
       " 'worse': 881,\n",
       " 'amymek': 882,\n",
       " 'aboions': 883,\n",
       " 'wakeupamerica': 884,\n",
       " 'surprised': 885,\n",
       " 'babies': 886,\n",
       " 'uniteblue': 887,\n",
       " 'completely': 888,\n",
       " 'quite': 889,\n",
       " 'msnbc': 890,\n",
       " 'hand': 891,\n",
       " 'movement': 892,\n",
       " 'enteainment': 893,\n",
       " 'lose': 894,\n",
       " 'taking': 895,\n",
       " 'thatchrisgore': 896,\n",
       " 'lie': 897,\n",
       " 'leaders': 898,\n",
       " 'such': 899,\n",
       " 'sanders': 900,\n",
       " 'everybody': 901,\n",
       " 'advantage': 902,\n",
       " 'education': 903,\n",
       " 'dog': 904,\n",
       " 'looked': 905,\n",
       " 'mad': 906,\n",
       " 'toot': 907,\n",
       " 'mutant': 908,\n",
       " 'superpower': 909,\n",
       " 'fearmongering': 910,\n",
       " 'batsask': 911,\n",
       " 'ha': 912,\n",
       " 'odonnell': 913,\n",
       " 'htt': 914,\n",
       " 'elected': 915,\n",
       " 'attacking': 916,\n",
       " 'goes': 917,\n",
       " 'self': 918,\n",
       " 'wanted': 919,\n",
       " 'close': 920,\n",
       " 'try': 921,\n",
       " 'sound': 922,\n",
       " 'serious': 923,\n",
       " 'china': 924,\n",
       " 'talked': 925,\n",
       " 'free': 926,\n",
       " 'outta': 927,\n",
       " 'amazing': 928,\n",
       " 'excellent': 929,\n",
       " 'health': 930,\n",
       " 'swear': 931,\n",
       " 'surprise': 932,\n",
       " 'touch': 933,\n",
       " 'fix': 934,\n",
       " 'national': 935,\n",
       " 'millions': 936,\n",
       " 'lived': 937,\n",
       " 'compton': 938,\n",
       " 'shannonrwatts': 939,\n",
       " 'shot': 940,\n",
       " 'understand': 941,\n",
       " 'substance': 942,\n",
       " 'hunger': 943,\n",
       " 'vagina': 944,\n",
       " 'polls': 945,\n",
       " 'th': 946,\n",
       " 'raise': 947,\n",
       " 'combover': 948,\n",
       " 'mozgovaya': 949,\n",
       " 'hopefuls': 950,\n",
       " 'brotherhood': 951,\n",
       " 'fire': 952,\n",
       " 'father': 953,\n",
       " 'movie': 954,\n",
       " '2nd': 955,\n",
       " 'course': 956,\n",
       " 'literally': 957,\n",
       " 'budget': 958,\n",
       " 'listening': 959,\n",
       " 'telling': 960,\n",
       " 'farrakhan': 961,\n",
       " 'bor': 962,\n",
       " 'post': 963,\n",
       " 'tlot': 964,\n",
       " 'mother': 965,\n",
       " 'stuff': 966,\n",
       " 'video': 967,\n",
       " 'jon': 968,\n",
       " 'scary': 969,\n",
       " 'experiment': 970,\n",
       " 'fear': 971,\n",
       " 'hit': 972,\n",
       " 'shouldnt': 973,\n",
       " 'independent': 974,\n",
       " 'constitution': 975,\n",
       " 'strong': 976,\n",
       " 'schools': 977,\n",
       " 'russia': 978,\n",
       " 'bashing': 979,\n",
       " 'round': 980,\n",
       " 'middle': 981,\n",
       " 'family': 982,\n",
       " 'awesome': 983,\n",
       " 'snl': 984,\n",
       " 'jokes': 985,\n",
       " 'coverage': 986,\n",
       " 'bias': 987,\n",
       " 'terrible': 988,\n",
       " 'sold': 989,\n",
       " 'trust': 990,\n",
       " 'standwithrand': 991,\n",
       " 'home': 992,\n",
       " 'noamnesty': 993,\n",
       " 'whererwomen': 994,\n",
       " 'libeyu': 995,\n",
       " 'fearful': 996,\n",
       " 'ignorant': 997,\n",
       " 'trans': 998,\n",
       " 'taxes': 999,\n",
       " 'law': 1000,\n",
       " ...}"
      ]
     },
     "execution_count": 135,
     "metadata": {},
     "output_type": "execute_result"
    }
   ],
   "source": [
    "tokenizer.word_index"
   ]
  },
  {
   "cell_type": "code",
   "execution_count": 136,
   "metadata": {},
   "outputs": [],
   "source": [
    "words_dict = tokenizer.word_index"
   ]
  },
  {
   "cell_type": "code",
   "execution_count": 137,
   "metadata": {},
   "outputs": [],
   "source": [
    "num2word = {}\n",
    "for w in words_dict.keys():\n",
    "    num2word[words_dict[w]] = w\n",
    "x_test_words = np.stack([np.array(list(map(lambda x: num2word.get(x, \"NONE\"), X_test[i]))) for i in range(10)])\n"
   ]
  },
  {
   "cell_type": "code",
   "execution_count": 138,
   "metadata": {},
   "outputs": [
    {
     "data": {
      "text/plain": [
       "0.7408539"
      ]
     },
     "execution_count": 138,
     "metadata": {},
     "output_type": "execute_result"
    }
   ],
   "source": [
    "explainer.expected_value[0]"
   ]
  },
  {
   "cell_type": "markdown",
   "metadata": {},
   "source": [
    "### Explain first instance from test set"
   ]
  },
  {
   "cell_type": "code",
   "execution_count": 139,
   "metadata": {},
   "outputs": [
    {
     "data": {
      "text/plain": [
       "array([0.98903763], dtype=float32)"
      ]
     },
     "execution_count": 139,
     "metadata": {},
     "output_type": "execute_result"
    }
   ],
   "source": [
    "model.predict(X_test)[0]"
   ]
  },
  {
   "cell_type": "code",
   "execution_count": 140,
   "metadata": {},
   "outputs": [
    {
     "data": {
      "image/png": "[encoded data removed]",
      "text/plain": [
       "<Figure size 1440x216 with 1 Axes>"
      ]
     },
     "execution_count": 140,
     "metadata": {},
     "output_type": "execute_result"
    }
   ],
   "source": [
    "# shap.initjs()\n",
    "shap.force_plot(explainer.expected_value[0], shap_values[0][0], x_test_words[0], matplotlib=True, show = False)\n",
    "\n"
   ]
  },
  {
   "cell_type": "markdown",
   "metadata": {},
   "source": [
    "*True label of the first instance is:*"
   ]
  },
  {
   "cell_type": "code",
   "execution_count": 141,
   "metadata": {},
   "outputs": [
    {
     "data": {
      "text/plain": [
       "1"
      ]
     },
     "execution_count": 141,
     "metadata": {},
     "output_type": "execute_result"
    }
   ],
   "source": [
    "Y_test[0]"
   ]
  },
  {
   "cell_type": "code",
   "execution_count": 145,
   "metadata": {},
   "outputs": [
    {
     "data": {
      "text/plain": [
       "' supermanhotmale hey chris wallace these guys have a better plan than president obama make the popcorn kids this is going to be stup'"
      ]
     },
     "execution_count": 145,
     "metadata": {},
     "output_type": "execute_result"
    }
   ],
   "source": [
    "data.iloc[X_train_shape][\"text\"]"
   ]
  },
  {
   "cell_type": "code",
   "execution_count": 146,
   "metadata": {},
   "outputs": [
    {
     "data": {
      "text/plain": [
       "'Negative'"
      ]
     },
     "execution_count": 146,
     "metadata": {},
     "output_type": "execute_result"
    }
   ],
   "source": [
    "data.iloc[X_train_shape][\"sentiment\"]"
   ]
  },
  {
   "cell_type": "markdown",
   "metadata": {},
   "source": [
    "### Explain second instance from test set"
   ]
  },
  {
   "cell_type": "code",
   "execution_count": 147,
   "metadata": {},
   "outputs": [
    {
     "data": {
      "text/plain": [
       "array([0.08637002], dtype=float32)"
      ]
     },
     "execution_count": 147,
     "metadata": {},
     "output_type": "execute_result"
    }
   ],
   "source": [
    "model.predict(X_test)[1]"
   ]
  },
  {
   "cell_type": "code",
   "execution_count": 148,
   "metadata": {},
   "outputs": [
    {
     "data": {
      "image/png": "[encoded data removed]",
      "text/plain": [
       "<Figure size 1440x216 with 1 Axes>"
      ]
     },
     "execution_count": 148,
     "metadata": {},
     "output_type": "execute_result"
    }
   ],
   "source": [
    "shap.force_plot(explainer.expected_value[0], shap_values[0][1], x_test_words[1], matplotlib=True, show = False)\n",
    "\n"
   ]
  },
  {
   "cell_type": "markdown",
   "metadata": {},
   "source": [
    "*True label of the second instance is:*"
   ]
  },
  {
   "cell_type": "code",
   "execution_count": 149,
   "metadata": {},
   "outputs": [
    {
     "data": {
      "text/plain": [
       "1"
      ]
     },
     "execution_count": 149,
     "metadata": {},
     "output_type": "execute_result"
    }
   ],
   "source": [
    "Y_test[1]"
   ]
  },
  {
   "cell_type": "code",
   "execution_count": 152,
   "metadata": {},
   "outputs": [
    {
     "data": {
      "text/plain": [
       "'race discussion was over quicker than that rousey fight gop could care less about black people republicandebate foxnews gopdebates'"
      ]
     },
     "execution_count": 152,
     "metadata": {},
     "output_type": "execute_result"
    }
   ],
   "source": [
    "data.iloc[X_train_shape+1][\"text\"]"
   ]
  },
  {
   "cell_type": "code",
   "execution_count": 153,
   "metadata": {},
   "outputs": [
    {
     "data": {
      "text/plain": [
       "'Negative'"
      ]
     },
     "execution_count": 153,
     "metadata": {},
     "output_type": "execute_result"
    }
   ],
   "source": [
    "data.iloc[X_train_shape][\"sentiment\"]"
   ]
  },
  {
   "cell_type": "markdown",
   "metadata": {},
   "source": [
    "### Explain third instance from test set"
   ]
  },
  {
   "cell_type": "code",
   "execution_count": 154,
   "metadata": {},
   "outputs": [
    {
     "data": {
      "text/plain": [
       "array([0.98159873], dtype=float32)"
      ]
     },
     "execution_count": 154,
     "metadata": {},
     "output_type": "execute_result"
    }
   ],
   "source": [
    "model.predict(X_test)[2]"
   ]
  },
  {
   "cell_type": "code",
   "execution_count": 155,
   "metadata": {},
   "outputs": [
    {
     "data": {
      "image/png": "[encoded data removed]",
      "text/plain": [
       "<Figure size 1440x216 with 1 Axes>"
      ]
     },
     "execution_count": 155,
     "metadata": {},
     "output_type": "execute_result"
    }
   ],
   "source": [
    "shap.force_plot(explainer.expected_value[0], shap_values[0][2], x_test_words[2], matplotlib=True, show = False)\n"
   ]
  },
  {
   "cell_type": "code",
   "execution_count": 156,
   "metadata": {},
   "outputs": [
    {
     "data": {
      "text/plain": [
       "'i am filled with so much joy right now gopdebates'"
      ]
     },
     "execution_count": 156,
     "metadata": {},
     "output_type": "execute_result"
    }
   ],
   "source": [
    "data.iloc[X_train_shape+2][\"text\"]"
   ]
  },
  {
   "cell_type": "code",
   "execution_count": 158,
   "metadata": {},
   "outputs": [
    {
     "data": {
      "text/plain": [
       "'Positive'"
      ]
     },
     "execution_count": 158,
     "metadata": {},
     "output_type": "execute_result"
    }
   ],
   "source": [
    "data.iloc[X_train_shape+2][\"sentiment\"]"
   ]
  },
  {
   "cell_type": "code",
   "execution_count": 163,
   "metadata": {},
   "outputs": [
    {
     "data": {
      "text/plain": [
       "0.0008787681744147208"
      ]
     },
     "execution_count": 163,
     "metadata": {},
     "output_type": "execute_result"
    }
   ],
   "source": [
    "shap_values[0"
   ]
  }
 ],
 "metadata": {
  "_change_revision": 0,
  "_is_fork": false,
  "kernelspec": {
   "display_name": "Python 3",
   "language": "python",
   "name": "python3"
  },
  "language_info": {
   "codemirror_mode": {
    "name": "ipython",
    "version": 3
   },
   "file_extension": ".py",
   "mimetype": "text/x-python",
   "name": "python",
   "nbconvert_exporter": "python",
   "pygments_lexer": "ipython3",
   "version": "3.6.15"
  }
 },
 "nbformat": 4,
 "nbformat_minor": 1
}
